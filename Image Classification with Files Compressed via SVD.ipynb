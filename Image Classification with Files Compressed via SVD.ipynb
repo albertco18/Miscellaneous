{
 "cells": [
  {
   "cell_type": "markdown",
   "id": "8bae7b37",
   "metadata": {},
   "source": [
    "\n",
    "Somewhere in the future (perhaps for my final capstone), I was hoping to do a project involving image classification. In a course I took on Data/Network Theory, we learned a bit about how SVD and low rank approximation can be used to compress image files. \n",
    "\n",
    "I thought it would be interesting to see if compression could be used in the preprocessing stage of a project, so that images could be compressed to smaller file sizes before putting the data into the training set, and evaluating if this would speed up the training portion of the model.\n",
    "\n",
    "Below I'll summarize some of the theory that will be used in code later on. "
   ]
  },
  {
   "cell_type": "markdown",
   "id": "8a11f039",
   "metadata": {},
   "source": [
    "# Image Compression & SVD\n",
    "\n",
    "*In this note book http://www.ams.org/publicoutreach/feature-column/fcarc-svd and http://www.math.utah.edu/~goller/F15_M2270/BradyMathews_SVDImage.pdfwill be used as resources*"
   ]
  },
  {
   "cell_type": "markdown",
   "id": "3eed38d7",
   "metadata": {},
   "source": [
    "Suppose $A = U\\Sigma V^T$ has rank $r$, then, \n",
    "$$\n",
    "    A = \\sum_{i=1}^r\\sigma_iu_iv_i^T.\n",
    "$$\n",
    "\n",
    "\n",
    "\n",
    "\n",
    "For a $m \\times n$ matrix A, we can find a lower rank approximation using the following expression:\n",
    "\n",
    "$$\n",
    "    A\\approx A_k:=\\sum_{i=1}^k\\sigma_ku_iv_i^T.\n",
    "$$\n",
    "\n",
    "Then, for\n",
    "$$\n",
    "    X = [ u_1 \\, u_2 \\, \\cdots \\, u_k ]\\qquad\\text{and}\\qquad Y = [ \\sigma_1 v_1 \\quad \\sigma_2 v_2 \\quad \\cdots \\quad \\sigma_k v_k ].\n",
    "$$\n",
    "\n",
    "we have that $A_k = XY^T$.\n",
    "\n"
   ]
  },
  {
   "cell_type": "markdown",
   "id": "fca3b078",
   "metadata": {},
   "source": [
    "When looking at compressed data, we define the compression ratio as follows,\n",
    "\n",
    "\n",
    "$$\n",
    "    \\text{compression ratio} = \\frac{\\text{uncompressed size}}{\\text{compressed size}}.\n",
    "$$\n",
    "\n",
    "\n",
    "#### Recall the X, Y decomposition above,\n",
    "We have $$\n",
    "    X = [ u_1 \\, u_2 \\, \\cdots \\, u_k ]\\qquad\\text{and}\\qquad Y = [ \\sigma_1 v_1 \\quad \\sigma_2 v_2 \\quad \\cdots \\quad \\sigma_k v_k ].\n",
    "$$\n",
    "From this we see that $X$ is an $m\\times k$ matrix and $Y$ is a $n\\times k$ matrix that has k singular values as scalars. It follows that the compressed size is $mk + nk + k$.\n",
    "\n",
    "\n",
    "Thus, \n",
    "$$\n",
    "    \\text{compression ratio} = \\frac{\\text{uncompressed size}}{\\text{compressed size}} = \\frac{mn}{mk+nk+k} = \\frac{mn}{k(m+n+1)}.\n",
    "$$\n",
    "\n",
    "#### For what value of k is the compression ratio equal to one? (i.e. the size of the data is not made smaller)\n",
    "For $A$, a $n\\times n$ matrix, we can find the break even point by setting the compression ratio equal to 1 and solving for $k$.\n",
    "\n",
    "$$\n",
    "    \\text{compression ratio} = \\frac{n^2}{k(2n+1)} = 1 \\implies n^2 = k(2n+1) \\implies k = \\frac{n^2}{2n+1} \\approx \\frac{n}{2}\n",
    "$$\n",
    "\n",
    "Thus, the break even point is \n",
    "\n",
    "$$\n",
    "    k = \\frac{n^2}{2n+1} \\approx \\frac{n}{2}\n",
    "$$\n"
   ]
  },
  {
   "cell_type": "markdown",
   "id": "29742f3f",
   "metadata": {},
   "source": [
    "### Here is a rudimentary function that computes a low rank approximation using the X & Y method above"
   ]
  },
  {
   "cell_type": "code",
   "execution_count": 3,
   "id": "3e162d71",
   "metadata": {},
   "outputs": [],
   "source": [
    "def lowrank(A,k):\n",
    "    \"\"\"\n",
    "\n",
    "    Args:\n",
    "        A: a numpy array representing an m-by-n matrix\n",
    "        k: the desired rank of the approximation\n",
    "\n",
    "    Returns:\n",
    "        X, YT (numpy arrays): the low-rank approximation\n",
    "   \n",
    "    \"\"\"\n",
    "    \n",
    "    import numpy as np\n",
    "    \n",
    "    # initialize X and YT as m x k and k x n matrices\n",
    "    \n",
    "    X = np.zeros(shape=(A.shape[0],k))\n",
    "    YT = np.zeros(shape=(k,A.shape[1]))\n",
    "    \n",
    "    # get SVD \n",
    "    u, s, vh = np.linalg.svd(A, full_matrices=True)\n",
    "    \n",
    "    #replace columns/rows of 0's with desired columns/rows \n",
    "    for i in range(k):\n",
    "        X[:, i] = u[:, i]\n",
    "        YT[i,:] = s[i] * vh[i,:]\n",
    "    #Approx = X.dot(YT)\n",
    "    return X, YT\n",
    "        "
   ]
  },
  {
   "cell_type": "code",
   "execution_count": null,
   "id": "ab29bd0e",
   "metadata": {},
   "outputs": [],
   "source": []
  }
 ],
 "metadata": {
  "kernelspec": {
   "display_name": "Python 3",
   "language": "python",
   "name": "python3"
  },
  "language_info": {
   "codemirror_mode": {
    "name": "ipython",
    "version": 3
   },
   "file_extension": ".py",
   "mimetype": "text/x-python",
   "name": "python",
   "nbconvert_exporter": "python",
   "pygments_lexer": "ipython3",
   "version": "3.8.8"
  }
 },
 "nbformat": 4,
 "nbformat_minor": 5
}
